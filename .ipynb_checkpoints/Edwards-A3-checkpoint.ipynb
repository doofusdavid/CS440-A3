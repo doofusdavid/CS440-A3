{
 "cells": [
  {
   "cell_type": "markdown",
   "metadata": {},
   "source": [
    "# A3: A\\*, IDS, and Effective Branching Factor"
   ]
  },
  {
   "cell_type": "markdown",
   "metadata": {},
   "source": [
    "For this assignment, I implemented (or copied/refactored) the following functions:\n",
    "\n",
    "   - `aStarSearch(startState, actionsF, takeActionF, goalTestF, hF)`\n",
    "   - `iterativeDeepeningSearch(startState, goalState, actionsF, takeActionF, maxDepth)`\n",
    "   - `ebf(nNodes, depth, precision=0.01)`, returns number of nodes expanded and depth reached during a search.  \n",
    "   - `goalTestF_8p(state, goal)`\n",
    "   - `actionsF_8p(state)`: returns a list of up to four valid actions that can be applied in `state`. With each action include a step cost of 1. For example, if all four actions are possible from this state, return [('left', 1), ('right', 1), ('up', 1), ('down', 1)].\n",
    "   - `takeActionF_8p(state, action)`: return the state that results from applying `action` in `state` and the cost of the one step,\n",
    "   - `runExperiment(goalState1, goalState2, goalState3, [h1, h2, h3])`\n",
    "\n",
    "Some notes:\n",
    "### aStarSearch\n",
    "Copied from code provided by the class.  Modified to add node and depth counting.\n",
    "### iterativeDeepeningSearch\n",
    "Copied from my homework 2.  Modified to add node and depth counting.\n",
    "### ebf\n",
    "Created based on class notes, using a binary search to narrow in on the correct-enough answer\n",
    "### goalTestF_8p\n",
    "Simple equality measurement\n",
    "### actionsF_8p\n",
    "Copied from my homework 2.  Modified to add a static step cost of 1, and returning actions as list of Tuples\n",
    "### takeActionF_8p\n",
    "Copied from my homework 2.  Modified to accept tuples, and to return the cost.\n",
    "### runExperiment\n",
    "Goes through the iterativeDeepeningSearch, and the aStarSearch for each of the three heuristic functions.\n",
    "Note: I created this with the display_html, to get the tables to display side by side.  I styled the tables a bit to fit them under the goal states."
   ]
  },
  {
   "cell_type": "markdown",
   "metadata": {},
   "source": [
    "## Heuristic Functions\n",
    "\n",
    "I created the following heuristic functions as well.\n",
    "\n",
    "  * `h1_8p(state, goal)`: $h(state, goal) = 0$, for all states $state$ and all goal states $goal$,\n",
    "  * `h2_8p(state, goal)`: $h(state, goal) = m$, where $m$ is the Manhattan distance that the blank is from its goal position,\n",
    "  * `h3_8p(state, goal)`: $h(state, goal) = ?$\n",
    "  \n",
    "For h3_8p, rather than just calculate the manhattan distance for the blank, I decided to sum all of the manhattan distances from each number in the current state, to their position in the goal state.  I'm a little upset, because I came up with this while talking to my wife, and when I was having troubles getting it to work (it was a problem I had introduced in the aStarSearch) I googled to see what may be other possible options.  I found that my way was good and valid.  Wish I hadn't Googled that.\n",
    "\n",
    "That distance should always be lower the closer the game is to completion, because all pieces should have a lower manhattan distance, the closer they are to the goal state, and it reaches 0 when solved.  "
   ]
  },
  {
   "cell_type": "code",
   "execution_count": 56,
   "metadata": {},
   "outputs": [
    {
     "name": "stdout",
     "output_type": "stream",
     "text": [
      " [1, 2, 3, 4, 0, 5, 6, 7, 8]   [1, 2, 3, 4, 5, 8, 6, 0, 7]   [1, 0, 3, 4, 5, 8, 2, 6, 7]  \n"
     ]
    },
    {
     "data": {
      "text/html": [
       "<table style=\"display:inline;padding-right:70px;padding-left:20px;\" border=\"1\" class=\"dataframe\">\n",
       "  <thead>\n",
       "    <tr style=\"text-align: right;\">\n",
       "      <th></th>\n",
       "      <th>Depth</th>\n",
       "      <th>Nodes</th>\n",
       "      <th>EBF</th>\n",
       "    </tr>\n",
       "  </thead>\n",
       "  <tbody>\n",
       "    <tr>\n",
       "      <th>IDS</th>\n",
       "      <td>0</td>\n",
       "      <td>0</td>\n",
       "      <td>0.000</td>\n",
       "    </tr>\n",
       "    <tr>\n",
       "      <th>A*h1</th>\n",
       "      <td>0</td>\n",
       "      <td>0</td>\n",
       "      <td>0.000</td>\n",
       "    </tr>\n",
       "    <tr>\n",
       "      <th>A*h2</th>\n",
       "      <td>0</td>\n",
       "      <td>0</td>\n",
       "      <td>0.000</td>\n",
       "    </tr>\n",
       "    <tr>\n",
       "      <th>A*h3</th>\n",
       "      <td>0</td>\n",
       "      <td>0</td>\n",
       "      <td>0.000</td>\n",
       "    </tr>\n",
       "  </tbody>\n",
       "</table style=\"display:inline;padding-right:70px;padding-left:20px;\"><table style=\"display:inline;padding-right:70px;padding-left:20px;\" border=\"1\" class=\"dataframe\">\n",
       "  <thead>\n",
       "    <tr style=\"text-align: right;\">\n",
       "      <th></th>\n",
       "      <th>Depth</th>\n",
       "      <th>Nodes</th>\n",
       "      <th>EBF</th>\n",
       "    </tr>\n",
       "  </thead>\n",
       "  <tbody>\n",
       "    <tr>\n",
       "      <th></th>\n",
       "      <td>3</td>\n",
       "      <td>43</td>\n",
       "      <td>3.078</td>\n",
       "    </tr>\n",
       "    <tr>\n",
       "      <th></th>\n",
       "      <td>3</td>\n",
       "      <td>40</td>\n",
       "      <td>2.981</td>\n",
       "    </tr>\n",
       "    <tr>\n",
       "      <th></th>\n",
       "      <td>3</td>\n",
       "      <td>17</td>\n",
       "      <td>2.102</td>\n",
       "    </tr>\n",
       "    <tr>\n",
       "      <th></th>\n",
       "      <td>5</td>\n",
       "      <td>3</td>\n",
       "      <td>1.016</td>\n",
       "    </tr>\n",
       "  </tbody>\n",
       "</table style=\"display:inline;padding-right:70px;padding-left:20px;\"><table style=\"display:inline;padding-right:70px;padding-left:20px;\" border=\"1\" class=\"dataframe\">\n",
       "  <thead>\n",
       "    <tr style=\"text-align: right;\">\n",
       "      <th></th>\n",
       "      <th>Depth</th>\n",
       "      <th>Nodes</th>\n",
       "      <th>EBF</th>\n",
       "    </tr>\n",
       "  </thead>\n",
       "  <tbody>\n",
       "    <tr>\n",
       "      <th></th>\n",
       "      <td>11</td>\n",
       "      <td>225850</td>\n",
       "      <td>2.965</td>\n",
       "    </tr>\n",
       "    <tr>\n",
       "      <th></th>\n",
       "      <td>11</td>\n",
       "      <td>225795</td>\n",
       "      <td>2.964</td>\n",
       "    </tr>\n",
       "    <tr>\n",
       "      <th></th>\n",
       "      <td>11</td>\n",
       "      <td>33644</td>\n",
       "      <td>2.444</td>\n",
       "    </tr>\n",
       "    <tr>\n",
       "      <th></th>\n",
       "      <td>14</td>\n",
       "      <td>1364</td>\n",
       "      <td>1.560</td>\n",
       "    </tr>\n",
       "  </tbody>\n",
       "</table style=\"display:inline;padding-right:70px;padding-left:20px;\">"
      ]
     },
     "metadata": {},
     "output_type": "display_data"
    }
   ],
   "source": [
    "import math\n",
    "import pandas as pd\n",
    "from IPython.display import display, display_html\n",
    "\n",
    "\n",
    "# Recursive Best First Search (Figure 3.26, Russell and Norvig)\n",
    "#  Recursive Iterative Deepening form of A*, where depth is replaced by f(n)\n",
    "\n",
    "class Node:\n",
    "    def __init__(self, state, f=0, g=0 ,h=0):\n",
    "        self.state = state\n",
    "        self.f = f\n",
    "        self.g = g\n",
    "        self.h = h\n",
    "    def __repr__(self):\n",
    "        return \"Node(\" + repr(self.state) + \", f=\" + repr(self.f) + \\\n",
    "               \", g=\" + repr(self.g) + \", h=\" + repr(self.h) + \")\"\n",
    "\n",
    "def aStarSearch(startState, actionsF, takeActionF, goalTestF, hF):\n",
    "    h = hF(startState)\n",
    "    startNode = Node(state=startState, f=0+h, g=0, h=h)\n",
    "    return aStarSearchHelper(startNode, actionsF, takeActionF, goalTestF, hF, float('inf'))\n",
    "\n",
    "def aStarSearchHelper(parentNode, actionsF, takeActionF, goalTestF, hF, fmax):\n",
    "    if goalTestF(parentNode.state):\n",
    "        return ([parentNode.state], parentNode.g)\n",
    "    ## Construct list of children nodes with f, g, and h values\n",
    "    actions = actionsF(parentNode.state)\n",
    "    if not actions:\n",
    "        return (\"failure\", float('inf'))\n",
    "    children = []\n",
    "    for action in actions:\n",
    "        (childState,stepCost) = takeActionF(parentNode.state, action)\n",
    "        h = hF(childState)\n",
    "        g = parentNode.g + stepCost\n",
    "        f = max(h+g, parentNode.f)\n",
    "        childNode = Node(state=childState, f=f, g=g, h=h)\n",
    "        children.append(childNode)\n",
    "    while True:\n",
    "        # find best child\n",
    "        children.sort(key = lambda n: n.f) # sort by f value\n",
    "        bestChild = children[0]\n",
    "        if bestChild.f > fmax:\n",
    "            return (\"failure\",bestChild.f)\n",
    "        # next lowest f value\n",
    "        alternativef = children[1].f if len(children) > 1 else float('inf')\n",
    "        # expand best child, reassign its f value to be returned value\n",
    "        global globalDepth\n",
    "        globalDepth = min(fmax,alternativef)\n",
    "        global globalNodes\n",
    "        globalNodes += 1\n",
    "        result,bestChild.f = aStarSearchHelper(bestChild, actionsF, takeActionF, goalTestF,\n",
    "                                            hF, min(fmax,alternativef))\n",
    "        if result is not \"failure\":               #        g\n",
    "            result.insert(0,parentNode.state)     #       /\n",
    "            return (result, bestChild.f)          #      d\n",
    "\n",
    "\n",
    "\n",
    "def printState(state):\n",
    "    \"\"\"\n",
    "    Displays the current state of a list by squaring it, and displaying it nicely.\n",
    "    :param state: list of numbers\n",
    "    :return: displays list as a square\n",
    "    \"\"\"\n",
    "    if type(state) is not list:\n",
    "        print(\"Not a valid list\")\n",
    "\n",
    "    # Substitute '' for 0, to make the puzzle look better\n",
    "    display = [x if x != 0 else '' for x in state]\n",
    "    sqrt = squareOfState(state)\n",
    "\n",
    "    # Iterate through the list, display tab-delimited\n",
    "    for x in range(sqrt):\n",
    "        print(*display[(x * sqrt):(x * sqrt) + sqrt], sep='\\t')\n",
    "\n",
    "\n",
    "def printState_8p(state):\n",
    "    \"\"\"\n",
    "    8p specific state printer.  Uses generic square state finder.\n",
    "    :param state: list of numbers\n",
    "    :return: displays list as a square\n",
    "    \"\"\"\n",
    "    return printState(state)\n",
    "\n",
    "\n",
    "def findNumberLocation_8p(number, state):\n",
    "    index = state.index(number)\n",
    "    sqrt = 3\n",
    "\n",
    "    position = int(index / sqrt), index % sqrt\n",
    "    return position\n",
    "\n",
    "\n",
    "def findBlank(state):\n",
    "    \"\"\"\n",
    "    Finds location of 0 in puzzle\n",
    "    :param state: current state of the puzzle\n",
    "    :return: coordinates of 0\n",
    "    \"\"\"\n",
    "    return findNumberLocation_8p(0, state)\n",
    "\n",
    "\n",
    "def findBlank_8p(state):\n",
    "    \"\"\"\n",
    "    8p specific version of findBlank.  Utilizes generic square blank finder.\n",
    "    :param state: current state of the puzzle\n",
    "    :return: coordinates of 0\n",
    "    \"\"\"\n",
    "    return findBlank(state)\n",
    "\n",
    "\n",
    "def actionsF(state):\n",
    "    \"\"\"\n",
    "    Determines valid moves for 0 state in a puzzle.\n",
    "    :param state: Current state of puzzle\n",
    "    :return: list of valid moves for the 0 piece.\n",
    "    \"\"\"\n",
    "    import math\n",
    "\n",
    "    position = findBlank_8p(state)\n",
    "    sqrt = int(math.sqrt(len(state)))\n",
    "\n",
    "    actions = []\n",
    "    if position[1] != 0: actions.append((\"left\",1))\n",
    "    if position[1] != sqrt - 1: actions.append((\"right\",1))\n",
    "    if position[0] != 0: actions.append((\"up\",1))\n",
    "    if position[0] != sqrt - 1: actions.append((\"down\",1))\n",
    "    return actions\n",
    "\n",
    "\n",
    "def actionsF_8p(state):\n",
    "    \"\"\"\n",
    "    8p specific actions function.  calls generic square puzzle function.\n",
    "    :param state: Current state of puzzle\n",
    "    :return: list of valid moves for the 0 piece.\n",
    "    \"\"\"\n",
    "    return actionsF(state)\n",
    "\n",
    "\n",
    "def squarable(state):\n",
    "    \"\"\"\n",
    "    Determines if a puzzle is actually square.\n",
    "    :param state: state of a puzzle\n",
    "    :return: whether or not the puzzle is square.\n",
    "    \"\"\"\n",
    "    import math\n",
    "    sqrt = math.sqrt(len(state))\n",
    "\n",
    "    if sqrt % 1 != 0:\n",
    "        print(\"Not a Squareable List\")\n",
    "        return False\n",
    "    else:\n",
    "        return True\n",
    "\n",
    "\n",
    "def squareOfState(state):\n",
    "    \"\"\"\n",
    "    Determines size of puzzle.  Originally created for both 3x3 and 4x4 puzzles.\n",
    "    :param state: State of puzzle\n",
    "    :return: whether it is a square puzzle or not\n",
    "    \"\"\"\n",
    "    import math\n",
    "    if not squarable(state):\n",
    "        return \"State not squarable\"\n",
    "\n",
    "    return int(math.sqrt(len(state)))\n",
    "\n",
    "\n",
    "def legalAction(arrState, action, position, sqrt):\n",
    "    \"\"\"\n",
    "    Double check if the move requested is legal, used for debugging state changes.\n",
    "    :param arrState: Current state broken into list of lists\n",
    "    :param action: Which direction to move the blank state\n",
    "    :param position: location of blank state\n",
    "    :param sqrt: what size of a puzzle is it (3 for 8p)\n",
    "    :return: Whether move is valid or not.\n",
    "    \"\"\"\n",
    "    if action[0] == \"left\" and position[1] == 0:\n",
    "        return False\n",
    "    if action[0] == \"right\" and position[1] == sqrt - 1:\n",
    "        return False\n",
    "    if action[0] == \"up\" and position[0] == 0:\n",
    "        return False\n",
    "    if action[0] == \"down\" and position[0] == sqrt - 1:\n",
    "        return False\n",
    "\n",
    "    return True\n",
    "\n",
    "\n",
    "def takeActionF_8p(state, action):\n",
    "    \"\"\"\n",
    "    Moves the blank piece the appropriate direction, and returns the new state.\n",
    "    :param state: Current state of puzzle\n",
    "    :param action: Which direction to move the blank piece\n",
    "    :return: New state after the 0 piece has moved.\n",
    "    \"\"\"\n",
    "    import numpy\n",
    "\n",
    "    position = findBlank_8p(state)\n",
    "    sqrt = 3\n",
    "\n",
    "    arrState = numpy.reshape(state, (sqrt, sqrt))\n",
    "    if not legalAction(arrState, action, position, sqrt):\n",
    "        return \"Could not move that direction\"\n",
    "\n",
    "    direction = action[0]\n",
    "    if direction == \"left\": return (swap(arrState, position, (position[0], position[1] - 1)), 1)\n",
    "    if direction == \"right\": return (swap(arrState, position, (position[0], position[1] + 1)), 1)\n",
    "    if direction == \"up\": return (swap(arrState, position, (position[0] - 1, position[1])), 1)\n",
    "    if direction == \"down\": return (swap(arrState, position, (position[0] + 1, position[1])), 1)\n",
    "\n",
    "\n",
    "def swap(state, location1, location2):\n",
    "    \"\"\"\n",
    "    swap two piece locations\n",
    "    :param state: current state of puzzle\n",
    "    :param location1: First location\n",
    "    :param location2: Second location\n",
    "    :return: new state with location1 and location2 swapped.\n",
    "    \"\"\"\n",
    "    state[location1[0]][location1[1]], state[location2[0]][location2[1]] = state[location2[0]][location2[1]], \\\n",
    "                                                                           state[location1[0]][location1[1]]\n",
    "    return list(state.flat)\n",
    "\n",
    "\n",
    "def depthLimitedSearch(startState, goalState, actionsF, takeActionF, depthLimit):\n",
    "    \"\"\"\n",
    "    Recursive function which performs a depth-first search, with a depth limit.  Used by iterativeDeepeningSearch to repeatedly\n",
    "    do depth-first searches at greater and greater depth.\n",
    "    :param startState: starting state of graph\n",
    "    :param goalState: desired completion state of graph\n",
    "    :param actionsF: function returning valid actions\n",
    "    :param takeActionF: function which implements those actions\n",
    "    :param depthLimit: maximum depth to traverse for this pass\n",
    "    :return: solution path of solution, 'cutoff' if we reach the depthLimit, 'failure' if not found.\n",
    "    \"\"\"\n",
    "    global globalNodes\n",
    "\n",
    "    if goalState == startState:\n",
    "        return []\n",
    "\n",
    "    if depthLimit == 0:\n",
    "        return 'cutoff'\n",
    "    else:\n",
    "        cutoffOccurred = False\n",
    "\n",
    "    for action in actionsF(startState):\n",
    "        childState = takeActionF(startState, action)\n",
    "        globalNodes += 1\n",
    "        result = depthLimitedSearch(childState[0], goalState, actionsF, takeActionF, depthLimit - 1)\n",
    "\n",
    "        if result is 'cutoff':\n",
    "            cutoffOccurred = True\n",
    "        elif result is not 'failure':\n",
    "            result.insert(0, childState)\n",
    "            return result\n",
    "\n",
    "    if cutoffOccurred:\n",
    "        return 'cutoff'\n",
    "    else:\n",
    "        return 'failure'\n",
    "\n",
    "\n",
    "def iterativeDeepeningSearch(startState, goalState, actionsF, takeActionF, maxDepth):\n",
    "    \"\"\"\n",
    "    Performs an Iterative Deepening Search, using a depth-first search, with depth limit, to optimize the time to\n",
    "    find a valid solution.\n",
    "    :param startState: Starting state of the graph\n",
    "    :param goalState:  Goal state of the graph\n",
    "    :param actionsF: Function listing actions graph can take\n",
    "    :param takeActionF: Function performing those actions\n",
    "    :param maxDepth: Maximum depth for this search.  Search can return earlier, but not later than this depth.\n",
    "    :return:\n",
    "    \"\"\"\n",
    "    global globalDepth\n",
    "    global globalNodes\n",
    "\n",
    "    solutionPath = []\n",
    "    solutionPath.append(startState)\n",
    "\n",
    "    for depth in range(maxDepth):\n",
    "        globalDepth = depth\n",
    "        result = depthLimitedSearch(startState, goalState, actionsF, takeActionF, depth)\n",
    "\n",
    "        if result is 'failure':\n",
    "            return 'failure'\n",
    "        if result is not 'cutoff':\n",
    "            solutionPath.extend(result)\n",
    "            return solutionPath\n",
    "\n",
    "    return 'cutoff'\n",
    "\n",
    "\n",
    "def printPath_8p(solutionPath):\n",
    "    \"\"\"\n",
    "    Prints solution path tailored for 8p puzzle, using generic square puzzle\n",
    "    :param solutionPath: Solution Path to display\n",
    "    :return: prints path.\n",
    "    \"\"\"\n",
    "    printPath(solutionPath)\n",
    "\n",
    "\n",
    "def printPath(solutionPath):\n",
    "    \"\"\"\n",
    "    Iterates through a solution and displays all states along the way.\n",
    "    :param solutionPath: list of lists of states.\n",
    "    :return: displays the path.\n",
    "    \"\"\"\n",
    "    for result in solutionPath:\n",
    "        printState_8p(result)\n",
    "        print()\n",
    "\n",
    "\n",
    "startState = [1, 2, 3, 4, 0, 5, 6, 7, 8]\n",
    "goalState1 = [1, 2, 3, 4, 0, 5, 6, 7, 8]\n",
    "goalState2 = [1, 2, 3, 4, 5, 8, 6, 0, 7]\n",
    "goalState3 = [1, 0, 3, 4, 5, 8, 2, 6, 7]\n",
    "\n",
    "\n",
    "def ebf(nNodes, depth, precision=0.01):\n",
    "    if (depth == 0):\n",
    "        return 0\n",
    "\n",
    "    first = 0\n",
    "    last = nNodes - 1\n",
    "    found = False\n",
    "    midpoint = 0\n",
    "\n",
    "    # guess = nNodes ** (1 / depth)\n",
    "    # return guess\n",
    "    while first <= last and not found:\n",
    "        midpoint = (first + last) / 2\n",
    "        nPrime = estimateX(midpoint, depth) if midpoint != 1 else 1\n",
    "        if abs(nPrime - nNodes) < precision:\n",
    "            found = True\n",
    "        else:\n",
    "            if nNodes < nPrime:\n",
    "                last = midpoint - precision\n",
    "            else:\n",
    "                first = midpoint + precision\n",
    "\n",
    "    return midpoint\n",
    "\n",
    "\n",
    "def estimateX(point, depth):\n",
    "    return (1 - point ** (depth + 1)) / (1 - point)\n",
    "\n",
    "def h1_8p(state, goal):\n",
    "    return 0\n",
    "\n",
    "def h2_8p(state, goal):\n",
    "    return manhattanDistance(0, state, goal)\n",
    "\n",
    "def manhattanDistance(number, state, goal):\n",
    "    statePos = findNumberLocation_8p(number, state)\n",
    "    goalPos = findNumberLocation_8p(number, goal)\n",
    "    return abs(statePos[0] - goalPos[0]) + abs(statePos[1] - goalPos[1])\n",
    "\n",
    "\n",
    "def h3_8p(state, goal):\n",
    "    value = 0\n",
    "    for i in range(9):\n",
    "        value += manhattanDistance(i, state, goal)\n",
    "\n",
    "    return value\n",
    "\n",
    "\n",
    "\n",
    "def goalTestF_8p(state, goal):\n",
    "    return state == goal\n",
    "\n",
    "\n",
    "def runExperiment(goalState1, goalState2, goalState3, heuristic_functions):\n",
    "\n",
    "    h1_8p = heuristic_functions[0]\n",
    "    h2_8p = heuristic_functions[1]\n",
    "    h3_8p = heuristic_functions[2]\n",
    "\n",
    "    global globalDepth\n",
    "    globalDepth = 0\n",
    "    global globalNodes\n",
    "    globalNodes = 0\n",
    "\n",
    "    idsSolutionPath1 = iterativeDeepeningSearch(startState, goalState1, actionsF_8p, takeActionF_8p, 10)\n",
    "    idsDepth1 = globalDepth\n",
    "    idsNodes1 = globalNodes\n",
    "\n",
    "    globalNodes = 0\n",
    "    idsSolutionPath2 = iterativeDeepeningSearch(startState, goalState2, actionsF_8p, takeActionF_8p, 10)\n",
    "    idsDepth2 = globalDepth\n",
    "    idsNodes2 = globalNodes\n",
    "\n",
    "    globalNodes = 0\n",
    "    idsSolutionPath3 = iterativeDeepeningSearch(startState, goalState3, actionsF_8p, takeActionF_8p, 15)\n",
    "    idsDepth3 = globalDepth\n",
    "    idsNodes3 = globalNodes\n",
    "\n",
    "    globalNodes = 0\n",
    "    globalDepth = 0\n",
    "    astarsolutionpath1 = aStarSearch(startState, actionsF_8p, takeActionF_8p, lambda s: goalTestF_8p(s, goalState1),\n",
    "                                     lambda s: h1_8p(s, goalState1))\n",
    "    astar1Depth1 = globalDepth\n",
    "    astar1Nodes1 = globalNodes\n",
    "\n",
    "\n",
    "    globalNodes = 0\n",
    "    globalDepth = 0\n",
    "    astarsolutionpath1 = aStarSearch(startState, actionsF_8p, takeActionF_8p, lambda s: goalTestF_8p(s, goalState1),\n",
    "                                     lambda s: h2_8p(s, goalState1))\n",
    "    astar1Depth2 = globalDepth\n",
    "    astar1Nodes2 = globalNodes\n",
    "\n",
    "    globalNodes = 0\n",
    "    globalDepth = 0\n",
    "    astarsolutionpath1 = aStarSearch(startState, actionsF_8p, takeActionF_8p, lambda s: goalTestF_8p(s, goalState1),\n",
    "                                     lambda s: h3_8p(s, goalState1))\n",
    "    astar1Depth3 = globalDepth\n",
    "    astar1Nodes3 = globalNodes\n",
    "\n",
    "    globalNodes = 0\n",
    "    globalDepth = 0\n",
    "    astarsolutionpath1 = aStarSearch(startState, actionsF_8p, takeActionF_8p, lambda s: goalTestF_8p(s, goalState2),\n",
    "                                     lambda s: h1_8p(s, goalState2))\n",
    "    astar2Depth1 = globalDepth\n",
    "    astar2Nodes1 = globalNodes\n",
    "\n",
    "\n",
    "    globalNodes = 0\n",
    "    globalDepth = 0\n",
    "    astarsolutionpath1 = aStarSearch(startState, actionsF_8p, takeActionF_8p, lambda s: goalTestF_8p(s, goalState2),\n",
    "                                     lambda s: h2_8p(s, goalState2))\n",
    "    astar2Depth2 = globalDepth\n",
    "    astar2Nodes2 = globalNodes\n",
    "\n",
    "    globalNodes = 0\n",
    "    globalDepth = 0\n",
    "    astarsolutionpath1 = aStarSearch(startState, actionsF_8p, takeActionF_8p, lambda s: goalTestF_8p(s, goalState2),\n",
    "                                     lambda s: h3_8p(s, goalState2))\n",
    "    astar2Depth3 = globalDepth\n",
    "    astar2Nodes3 = globalNodes\n",
    "\n",
    "    globalNodes = 0\n",
    "    globalDepth = 0\n",
    "    astarsolutionpath1 = aStarSearch(startState, actionsF_8p, takeActionF_8p, lambda s: goalTestF_8p(s, goalState3),\n",
    "                                     lambda s: h1_8p(s, goalState3))\n",
    "    astar3Depth1 = globalDepth\n",
    "    astar3Nodes1 = globalNodes\n",
    "\n",
    "\n",
    "    globalNodes = 0\n",
    "    globalDepth = 0\n",
    "    astarsolutionpath1 = aStarSearch(startState, actionsF_8p, takeActionF_8p, lambda s: goalTestF_8p(s, goalState3),\n",
    "                                     lambda s: h2_8p(s, goalState3))\n",
    "    astar3Depth2 = globalDepth\n",
    "    astar3Nodes2 = globalNodes\n",
    "\n",
    "    globalNodes = 0\n",
    "    globalDepth = 0\n",
    "    astarsolutionpath1 = aStarSearch(startState, actionsF_8p, takeActionF_8p, lambda s: goalTestF_8p(s, goalState3),\n",
    "                                     lambda s: h3_8p(s, goalState3))\n",
    "    astar3Depth3 = globalDepth\n",
    "    astar3Nodes3 = globalNodes\n",
    "\n",
    "    print(\"{!s:^30}{!s:^30}{!s:^30}\".format(goalState1, goalState2, goalState3))\n",
    "\n",
    "    state1DataFrame = pd.DataFrame(\n",
    "        [[idsDepth1, idsNodes1, \"{0:.3f}\".format(ebf(idsNodes1, idsDepth1))], [astar1Depth1, astar1Nodes1, \"{0:.3f}\".format(ebf(astar1Nodes1, astar1Depth1))], [astar1Depth2, astar1Nodes2, \"{0:.3f}\".format(ebf(astar1Nodes2, astar1Depth2))], [astar1Depth3, astar1Nodes3, \"{0:.3f}\".format(ebf(astar1Nodes3, astar1Depth3))]],\n",
    "        index=[\"IDS\", \"A*h1\", \"A*h2\", \"A*h3\"], columns=[\"Depth\", \"Nodes\", \"EBF\"])\n",
    "\n",
    "    state2DataFrame = pd.DataFrame(\n",
    "        [[idsDepth2, idsNodes2, \"{0:.3f}\".format(ebf(idsNodes2, idsDepth2))], [astar2Depth1, astar2Nodes1, \"{0:.3f}\".format(ebf(astar2Nodes1, astar2Depth1))], [astar2Depth2, astar2Nodes2, \"{0:.3f}\".format(ebf(astar2Nodes2, astar2Depth2))], [astar2Depth3, astar2Nodes3, \"{0:.3f}\".format(ebf(astar2Nodes3, astar2Depth3))]], index=list(\"    \"),\n",
    "        columns=[\"Depth\", \"Nodes\", \"EBF\"])\n",
    "\n",
    "    state3DataFrame = pd.DataFrame(\n",
    "        [[idsDepth3, idsNodes3, \"{0:.3f}\".format(ebf(idsNodes3, idsDepth3))], [astar3Depth1, astar3Nodes1, \"{0:.3f}\".format(ebf(astar3Nodes1, astar3Depth1))], [astar3Depth2, astar3Nodes2, \"{0:.3f}\".format(ebf(astar3Nodes2, astar3Depth2))], [astar3Depth3, astar3Nodes3, \"{0:.3f}\".format(ebf(astar3Nodes3, astar3Depth3))]], index=list(\"    \"),\n",
    "        columns=[\"Depth\", \"Nodes\", \"EBF\"])\n",
    "    # print(pd.concat([state1DataFrame, state2DataFrame, state3DataFrame], axis=1))\n",
    "\n",
    "    display_side_by_side(state1DataFrame, state2DataFrame, state3DataFrame)\n",
    "\n",
    "\n",
    "def printSolution(solutionPath):\n",
    "    if type(solutionPath) is not list:\n",
    "        print(solutionPath)\n",
    "        return\n",
    "\n",
    "    for solution in solutionPath:\n",
    "        printState(solution)\n",
    "        print()\n",
    "\n",
    "def display_side_by_side(*args):\n",
    "    html_str=''\n",
    "    for df in args:\n",
    "        html_str+=df.to_html()\n",
    "    display_html(html_str.replace('table','table style=\"display:inline;padding-right:70px;padding-left:20px;\"'),raw=True)\n",
    "\n",
    "\n",
    "def printState(state):\n",
    "    \"\"\"\n",
    "    Displays the current state of a list by squaring it, and displaying it nicely.\n",
    "    :param state: list of numbers\n",
    "    :return: displays list as a square\n",
    "    \"\"\"\n",
    "\n",
    "    # Substitute '' for 0, to make the puzzle look better\n",
    "    display = [x if x != 0 else '' for x in state]\n",
    "    sqrt = 3\n",
    "\n",
    "    # Iterate through the list, display tab-delimited\n",
    "    for x in range(sqrt):\n",
    "        print(*display[(x * sqrt):(x * sqrt) + sqrt], sep='\\t')\n",
    "\n",
    "    print()\n",
    "\n",
    "\n",
    "#\n",
    "runExperiment(goalState1, goalState2, goalState3, [h1_8p, h2_8p, h3_8p])\n",
    "\n",
    "\n"
   ]
  },
  {
   "cell_type": "markdown",
   "metadata": {},
   "source": [
    "First, some example output for the ebf function."
   ]
  },
  {
   "cell_type": "code",
   "execution_count": 20,
   "metadata": {},
   "outputs": [
    {
     "data": {
      "text/plain": [
       "1.6636328125000004"
      ]
     },
     "execution_count": 20,
     "metadata": {},
     "output_type": "execute_result"
    }
   ],
   "source": [
    "ebf(10, 3)"
   ]
  },
  {
   "cell_type": "markdown",
   "metadata": {},
   "source": [
    "The smallest argument values should be a depth of 0, and 1 node."
   ]
  },
  {
   "cell_type": "code",
   "execution_count": 21,
   "metadata": {},
   "outputs": [
    {
     "data": {
      "text/plain": [
       "0"
      ]
     },
     "execution_count": 21,
     "metadata": {},
     "output_type": "execute_result"
    }
   ],
   "source": [
    "ebf(1, 0)"
   ]
  },
  {
   "cell_type": "code",
   "execution_count": 24,
   "metadata": {},
   "outputs": [
    {
     "data": {
      "text/plain": [
       "0.9940625000000001"
      ]
     },
     "execution_count": 24,
     "metadata": {},
     "output_type": "execute_result"
    }
   ],
   "source": [
    "ebf(2, 1)"
   ]
  },
  {
   "cell_type": "code",
   "execution_count": 25,
   "metadata": {},
   "outputs": [
    {
     "data": {
      "text/plain": [
       "0.9999990926475526"
      ]
     },
     "execution_count": 25,
     "metadata": {},
     "output_type": "execute_result"
    }
   ],
   "source": [
    "ebf(2, 1, precision=0.000001)"
   ]
  },
  {
   "cell_type": "code",
   "execution_count": 26,
   "metadata": {},
   "outputs": [
    {
     "data": {
      "text/plain": [
       "11.279064403772352"
      ]
     },
     "execution_count": 26,
     "metadata": {},
     "output_type": "execute_result"
    }
   ],
   "source": [
    "ebf(200000, 5)"
   ]
  },
  {
   "cell_type": "code",
   "execution_count": 27,
   "metadata": {},
   "outputs": [
    {
     "data": {
      "text/plain": [
       "1.2416914069652558"
      ]
     },
     "execution_count": 27,
     "metadata": {},
     "output_type": "execute_result"
    }
   ],
   "source": [
    "ebf(200000, 50)"
   ]
  },
  {
   "cell_type": "markdown",
   "metadata": {},
   "source": [
    "Here is a simple example using our usual simple graph search."
   ]
  },
  {
   "cell_type": "code",
   "execution_count": 28,
   "metadata": {
    "collapsed": true
   },
   "outputs": [],
   "source": [
    "def actionsF_simple(state):\n",
    "    succs = {'a': ['b', 'c'], 'b':['e', 'f', 'g'], 'b':['a'], 'c':['h'], 'h':['i'], 'i':['j', 'k', 'l'], 'k':['z']}\n",
    "    return [(s, 1) for s in succs.get(state, [])]\n",
    "\n",
    "def takeActionF_simple(state, action):\n",
    "    return action\n",
    "\n",
    "def goalTestF_simple(state, goal):\n",
    "    return state == goal\n",
    "\n",
    "def h_simple(state, goal):\n",
    "    return 1"
   ]
  },
  {
   "cell_type": "code",
   "execution_count": 29,
   "metadata": {},
   "outputs": [
    {
     "data": {
      "text/plain": [
       "[('b', 1), ('c', 1)]"
      ]
     },
     "execution_count": 29,
     "metadata": {},
     "output_type": "execute_result"
    }
   ],
   "source": [
    "actions = actionsF_simple('a')\n",
    "actions"
   ]
  },
  {
   "cell_type": "code",
   "execution_count": 30,
   "metadata": {},
   "outputs": [
    {
     "data": {
      "text/plain": [
       "('b', 1)"
      ]
     },
     "execution_count": 30,
     "metadata": {},
     "output_type": "execute_result"
    }
   ],
   "source": [
    "takeActionF_simple('a', actions[0])"
   ]
  },
  {
   "cell_type": "code",
   "execution_count": 31,
   "metadata": {},
   "outputs": [
    {
     "data": {
      "text/plain": [
       "True"
      ]
     },
     "execution_count": 31,
     "metadata": {},
     "output_type": "execute_result"
    }
   ],
   "source": [
    "goalTestF_simple('a', 'a')"
   ]
  },
  {
   "cell_type": "code",
   "execution_count": 32,
   "metadata": {},
   "outputs": [
    {
     "data": {
      "text/plain": [
       "1"
      ]
     },
     "execution_count": 32,
     "metadata": {},
     "output_type": "execute_result"
    }
   ],
   "source": [
    "h_simple('a', 'z')"
   ]
  },
  {
   "cell_type": "code",
   "execution_count": 33,
   "metadata": {},
   "outputs": [
    {
     "data": {
      "text/plain": [
       "'failure'"
      ]
     },
     "execution_count": 33,
     "metadata": {},
     "output_type": "execute_result"
    }
   ],
   "source": [
    "iterativeDeepeningSearch('a', 'z', actionsF_simple, takeActionF_simple, 10)"
   ]
  },
  {
   "cell_type": "code",
   "execution_count": 34,
   "metadata": {},
   "outputs": [
    {
     "data": {
      "text/plain": [
       "('failure', None)"
      ]
     },
     "execution_count": 34,
     "metadata": {},
     "output_type": "execute_result"
    }
   ],
   "source": [
    "aStarSearch('a',actionsF_simple, takeActionF_simple,\n",
    "            lambda s: goalTestF_simple(s, 'z'),\n",
    "            lambda s: h_simple(s, 'z'))"
   ]
  },
  {
   "cell_type": "markdown",
   "metadata": {},
   "source": [
    "Download [A3grader.tar](http://www.cs.colostate.edu/~anderson/cs440/notebooks/A3grader.tar) and extract A3grader.py from it."
   ]
  },
  {
   "cell_type": "code",
   "execution_count": 57,
   "metadata": {},
   "outputs": [
    {
     "name": "stdout",
     "output_type": "stream",
     "text": [
      "\n",
      "Testing actionsF_8p([1, 2, 3, 4, 5, 6, 7, 0, 8])\n",
      "\n",
      "--- 5/5 points. Your actionsF_8p correctly returned [('left', 1), ('right', 1), ('up', 1)]\n",
      "\n",
      "Testing takeActionF_8p([1, 2, 3, 4, 5, 6, 7, 0, 8], (up, 1))\n",
      "\n",
      "--- 5/5 points. Your takeActionsF_8p correctly returned ([1, 2, 3, 4, 0, 6, 7, 5, 8], 1)\n",
      "\n",
      "Testing goalTestF_8p([1, 2, 3, 4, 5, 6, 7, 0, 8], [1, 2, 3, 4, 5, 6, 7, 0, 8])\n",
      "\n",
      "--- 5/5 points. Your goalTestF_8p correctly True\n",
      "\n",
      "Testing aStarSearch([1, 2, 3, 4, 5, 6, 7, 0, 8],\n",
      "                     actionsF_8p, takeActionF_8p,\n",
      "                     lambda s: goalTestF_8p(s, [0, 2, 3, 1, 4,  6, 7, 5, 8]),\n",
      "                     lambda s: h1_8p(s, [0, 2, 3, 1, 4,  6, 7, 5, 8]))\n",
      "\n",
      "--- 20/20 points. Your search correctly returned ([[1, 2, 3, 4, 5, 6, 7, 0, 8], [1, 2, 3, 4, 0, 6, 7, 5, 8], [1, 2, 3, 0, 4, 6, 7, 5, 8], [0, 2, 3, 1, 4, 6, 7, 5, 8]], 3)\n",
      "\n",
      "Testing iterativeDeepeningSearch([5, 2, 8, 0, 1, 4, 3, 7, 6], \n",
      "                                 [0, 2, 3, 1, 4,  6, 7, 5, 8],\n",
      "                                 actionsF_8p, takeActionF_8p, 10)\n",
      "\n",
      "--- 15/15 points. Your search correctly returned cutoff\n",
      "\n",
      "A3 Grade is 50/50\n"
     ]
    }
   ],
   "source": [
    "%run -i A3grader.py"
   ]
  },
  {
   "cell_type": "code",
   "execution_count": null,
   "metadata": {
    "collapsed": true
   },
   "outputs": [],
   "source": []
  },
  {
   "cell_type": "code",
   "execution_count": null,
   "metadata": {
    "collapsed": true
   },
   "outputs": [],
   "source": []
  }
 ],
 "metadata": {
  "anaconda-cloud": {},
  "kernelspec": {
   "display_name": "Python 3",
   "language": "python",
   "name": "python3"
  },
  "language_info": {
   "codemirror_mode": {
    "name": "ipython",
    "version": 3
   },
   "file_extension": ".py",
   "mimetype": "text/x-python",
   "name": "python",
   "nbconvert_exporter": "python",
   "pygments_lexer": "ipython3",
   "version": "3.6.2"
  }
 },
 "nbformat": 4,
 "nbformat_minor": 1
}
